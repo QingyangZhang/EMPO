{
 "cells": [
  {
   "cell_type": "code",
   "execution_count": 45,
   "id": "a8c64f9b-babd-49b7-b248-0dcbc8a68fde",
   "metadata": {
    "execution": {
     "iopub.execute_input": "2025-05-06T09:26:19.445408Z",
     "iopub.status.busy": "2025-05-06T09:26:19.445127Z",
     "iopub.status.idle": "2025-05-06T09:26:19.449954Z",
     "shell.execute_reply": "2025-05-06T09:26:19.449625Z",
     "shell.execute_reply.started": "2025-05-06T09:26:19.445391Z"
    }
   },
   "outputs": [
    {
     "name": "stdout",
     "output_type": "stream",
     "text": [
      "{'A': \"5'ATAATGATGG GATGATAATT GGAGGCAAGT GAATCCTGAG\\nCGTGATTTGA TAATGACCTA GTTTTATTTC CAGACTTCAC\\nTTCTAATGGT GATTATGGGA GAACTGGAGC CTTCAGAGGG\\nTAAAATTAAG CACAGTGGAA GAATTTCATT CTGTTCTCAG\\nTTTTCCTGGA TTATGCCTGG CACCATTAAA GAAAATATCA\\n\\n3'TATGATGAAT TGGTGTTTCC ATAGATACAG AAGCGTCATC\\nAAAGCATGCC AACTAGAAGA GGTAAGAAAC TATGTGAAAA\\nCTTTTTGATT ATGCATATGA CTACCCAAAT TATATATTTG\\nACCCTTCACA GCTCCATATT CAATCGGTTA GTCTACATAT\\nATTTATGTTT CCTCTATGGG TGAATGGATC TAAGCTACTG\", 'B': \"5'GATGATAATT GGAGGCAAGT GAATCCTGAG CGTGATTTGA\\nTAATGACCTA ATAATGATGG GTTTTATTTC CAGACTTCAC\\nTTCTAATGGT GATTATGGGA GAACTGGAGC CTTCAGAGGG\\nTAAAATTAAG CACAGTGGAA GAATTTCATT CTGTTCTCAG\\nTTTTCCTGGA TTATGCCTGG CACCATTAAA GAAAATATCA\\n\\n3'TGGTGTTTCC TATGATGAAT ATAGATACAG AAGCGTCATC\\nAAAGCATGCC AACTAGAAGA GGTAAGAAAC TATGTGAAAA\\nCTTTTTGATT ATGCATATGA ACCCTTCACA CTACCCAAAT\\nTATATATTTG GCTCCATATT CAATCGGTTA GTCTACATAT\\nATTTATGTTT CCTCTATGGG TAAGCTACTG TGAATGGATC\", 'C': \"5'GAAAATATCA ATAATGATGG GATGATAATT GGAGGCAAGT\\nGAATCCTGAG CGTGATTTGA TAATGACCTA GTTTTATTTC\\nCAGACTTCAC TTCTAATGGT GATTATGGGA GAACTGGAGC\\nCTTCAGAGGG TAAAATTAAG CACAGTGGAA GAATTTCATT\\nCTGTTCTCAG TTTTCCTGGA TTATGCCTGG CACCATTAAA\\n\\n3'ATAGATACAG TGGTGTTTCC TAAGCTACTG TATGATGAAT\\nAAGCGTCATC AAAGCATGCC AACTAGAAGA GGTAAGAAAC\\nTATGTGAAAA CTTTTTGATT ATGCATATGA CTACCCAAAT\\nTATATATTTG ACCCTTCACA GCTCCATATT CAATCGGTTA\\nGTCTACATATATTTATGTTT TGAATGGATC CCTCTATGGG\", 'D': \"5'ATAATGATGG GATGATAATT GGAGGCAAGT GAATCCTGAG\\nCGTGATTTGA TAATGACCTA GTTTTATTTC CAGACTTCAC\\nTTCTAATGGT GATTATGGGA GAACTGGAGC CTTCAGAGGG\\nTAAAATTAAG CACAGTGGAA GAATTTCATT CTGTTCTCAG\\nTTTTCCTGGA TTATGCCTGG CACCATTAAA GAAAATATCA\\n\\n3'AAGCGTCATC TGGTGTTTCC TATGATGAAT ATAGATACAG\\nAAAGCATGCC AACTAGAAGA GGTAAGAAAC TATGTGAAAA\\nCTTTTTGATT ATGCATATGA CTACCCAAAT TATATATTTG\\nACCCTTCACA GCTCCATATT CAATCGGTTA GTCTACATAT\\nATTTATGTTT TGAATGGATC TAAGCTACTG CCTCTATGGG\"}\n"
     ]
    }
   ],
   "source": [
    "text = '''\n",
    "(A) 5'ATAATGATGG GATGATAATT GGAGGCAAGT GAATCCTGAG\n",
    "CGTGATTTGA TAATGACCTA GTTTTATTTC CAGACTTCAC\n",
    "TTCTAATGGT GATTATGGGA GAACTGGAGC CTTCAGAGGG\n",
    "TAAAATTAAG CACAGTGGAA GAATTTCATT CTGTTCTCAG\n",
    "TTTTCCTGGA TTATGCCTGG CACCATTAAA GAAAATATCA\n",
    "\n",
    "3'TATGATGAAT TGGTGTTTCC ATAGATACAG AAGCGTCATC\n",
    "AAAGCATGCC AACTAGAAGA GGTAAGAAAC TATGTGAAAA\n",
    "CTTTTTGATT ATGCATATGA CTACCCAAAT TATATATTTG\n",
    "ACCCTTCACA GCTCCATATT CAATCGGTTA GTCTACATAT\n",
    "ATTTATGTTT CCTCTATGGG TGAATGGATC TAAGCTACTG\n",
    "(B) 5'GATGATAATT GGAGGCAAGT GAATCCTGAG CGTGATTTGA\n",
    "TAATGACCTA ATAATGATGG GTTTTATTTC CAGACTTCAC\n",
    "TTCTAATGGT GATTATGGGA GAACTGGAGC CTTCAGAGGG\n",
    "TAAAATTAAG CACAGTGGAA GAATTTCATT CTGTTCTCAG\n",
    "TTTTCCTGGA TTATGCCTGG CACCATTAAA GAAAATATCA\n",
    "\n",
    "3'TGGTGTTTCC TATGATGAAT ATAGATACAG AAGCGTCATC\n",
    "AAAGCATGCC AACTAGAAGA GGTAAGAAAC TATGTGAAAA\n",
    "CTTTTTGATT ATGCATATGA ACCCTTCACA CTACCCAAAT\n",
    "TATATATTTG GCTCCATATT CAATCGGTTA GTCTACATAT\n",
    "ATTTATGTTT CCTCTATGGG TAAGCTACTG TGAATGGATC\n",
    "(C) 5'GAAAATATCA ATAATGATGG GATGATAATT GGAGGCAAGT\n",
    "GAATCCTGAG CGTGATTTGA TAATGACCTA GTTTTATTTC\n",
    "CAGACTTCAC TTCTAATGGT GATTATGGGA GAACTGGAGC\n",
    "CTTCAGAGGG TAAAATTAAG CACAGTGGAA GAATTTCATT\n",
    "CTGTTCTCAG TTTTCCTGGA TTATGCCTGG CACCATTAAA\n",
    "\n",
    "3'ATAGATACAG TGGTGTTTCC TAAGCTACTG TATGATGAAT\n",
    "AAGCGTCATC AAAGCATGCC AACTAGAAGA GGTAAGAAAC\n",
    "TATGTGAAAA CTTTTTGATT ATGCATATGA CTACCCAAAT\n",
    "TATATATTTG ACCCTTCACA GCTCCATATT CAATCGGTTA\n",
    "GTCTACATATATTTATGTTT TGAATGGATC CCTCTATGGG\n",
    "(D) 5'ATAATGATGG GATGATAATT GGAGGCAAGT GAATCCTGAG\n",
    "CGTGATTTGA TAATGACCTA GTTTTATTTC CAGACTTCAC\n",
    "TTCTAATGGT GATTATGGGA GAACTGGAGC CTTCAGAGGG\n",
    "TAAAATTAAG CACAGTGGAA GAATTTCATT CTGTTCTCAG\n",
    "TTTTCCTGGA TTATGCCTGG CACCATTAAA GAAAATATCA\n",
    "\n",
    "3'AAGCGTCATC TGGTGTTTCC TATGATGAAT ATAGATACAG\n",
    "AAAGCATGCC AACTAGAAGA GGTAAGAAAC TATGTGAAAA\n",
    "CTTTTTGATT ATGCATATGA CTACCCAAAT TATATATTTG\n",
    "ACCCTTCACA GCTCCATATT CAATCGGTTA GTCTACATAT\n",
    "ATTTATGTTT TGAATGGATC TAAGCTACTG CCTCTATGGG\n",
    "'''\n",
    "\n",
    "# 按选项标记分割文本（兼容多行内容）\n",
    "split_points = []\n",
    "current_pos = 0\n",
    "\n",
    "# 查找所有选项标记的位置（如 \"(A)\", \"(B)\"）\n",
    "while True:\n",
    "    start = text.find('(', current_pos)\n",
    "    if start == -1:\n",
    "        break\n",
    "    end = text.find(')', start)\n",
    "    if end == -1:\n",
    "        break\n",
    "    split_points.append((start, end))  # 记录选项标记的位置\n",
    "    current_pos = end + 1\n",
    "\n",
    "options_dict = {}\n",
    "\n",
    "# 提取每个选项内容（兼容多行）\n",
    "for i in range(len(split_points)):\n",
    "    option_mark = text[split_points[i][0]+1 : split_points[i][1]]  # 提取字母（如 \"A\"）\n",
    "    \n",
    "    # 内容范围：从当前选项标记结束到下一个选项标记开始（或文本末尾）\n",
    "    content_start = split_points[i][1] + 1\n",
    "    content_end = split_points[i+1][0] if i < len(split_points)-1 else len(text)\n",
    "    \n",
    "    option_content = text[content_start : content_end].strip()  # 提取并清理内容\n",
    "    options_dict[option_mark] = option_content\n",
    "\n",
    "print(options_dict)"
   ]
  },
  {
   "cell_type": "code",
   "execution_count": 35,
   "id": "e972e38a-3b4a-4130-baf3-a607c957a19b",
   "metadata": {
    "execution": {
     "iopub.execute_input": "2025-05-06T08:57:54.145883Z",
     "iopub.status.busy": "2025-05-06T08:57:54.145586Z",
     "iopub.status.idle": "2025-05-06T08:57:54.148997Z",
     "shell.execute_reply": "2025-05-06T08:57:54.148676Z",
     "shell.execute_reply.started": "2025-05-06T08:57:54.145865Z"
    }
   },
   "outputs": [
    {
     "data": {
      "text/plain": [
       "'\\n(A) 4-(sec-butyl)benzoic acid\\n'"
      ]
     },
     "execution_count": 35,
     "metadata": {},
     "output_type": "execute_result"
    }
   ],
   "source": [
    "options_part"
   ]
  },
  {
   "cell_type": "code",
   "execution_count": 33,
   "id": "3bf6a3d8-8184-408e-acd3-0a2b807f83e3",
   "metadata": {
    "execution": {
     "iopub.execute_input": "2025-05-06T08:57:39.369108Z",
     "iopub.status.busy": "2025-05-06T08:57:39.368682Z",
     "iopub.status.idle": "2025-05-06T08:57:39.372097Z",
     "shell.execute_reply": "2025-05-06T08:57:39.371751Z",
     "shell.execute_reply.started": "2025-05-06T08:57:39.369087Z"
    }
   },
   "outputs": [
    {
     "data": {
      "text/plain": [
       "{}"
      ]
     },
     "execution_count": 33,
     "metadata": {},
     "output_type": "execute_result"
    }
   ],
   "source": [
    "options_dict"
   ]
  },
  {
   "cell_type": "code",
   "execution_count": null,
   "id": "4eac68ec-b53b-402a-956d-7cb4d2a3ea8f",
   "metadata": {},
   "outputs": [],
   "source": []
  },
  {
   "cell_type": "code",
   "execution_count": null,
   "id": "ace74d80-6038-4175-9d8d-44073c7684ba",
   "metadata": {},
   "outputs": [],
   "source": []
  }
 ],
 "metadata": {
  "kernelspec": {
   "display_name": "Python 3 (ipykernel)",
   "language": "python",
   "name": "python3"
  },
  "language_info": {
   "codemirror_mode": {
    "name": "ipython",
    "version": 3
   },
   "file_extension": ".py",
   "mimetype": "text/x-python",
   "name": "python",
   "nbconvert_exporter": "python",
   "pygments_lexer": "ipython3",
   "version": "3.12.2"
  }
 },
 "nbformat": 4,
 "nbformat_minor": 5
}
